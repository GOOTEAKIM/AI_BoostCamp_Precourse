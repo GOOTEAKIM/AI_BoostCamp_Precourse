{
 "cells": [
  {
   "cell_type": "code",
   "execution_count": null,
   "id": "52b597ff",
   "metadata": {},
   "outputs": [],
   "source": [
    "import pandas as pd\n",
    "\n",
    "from pandas import Series, DataFrame"
   ]
  },
  {
   "cell_type": "code",
   "execution_count": 2,
   "id": "2276bcfd",
   "metadata": {},
   "outputs": [],
   "source": [
    "ipl_data = {\n",
    "    \"Team\" : [\"ulsan\",\n",
    "              \"ulsan\",\n",
    "              \"busan\",\n",
    "              \"busan\",\n",
    "              \"busan\",\n",
    "              \"seoul\",\n",
    "              \"seoul\",\n",
    "              \"seoul\",\n",
    "              \"seoul\"],\n",
    "    \"Rank\" : [1,2,2,3,3,4,1,1,2],\n",
    "    \"Year\" : [2014,2015,2014,2015,2014,2015,2016,2017,2019],\n",
    "    \"Points\" :[876,789,863,673,812,741,756,899,400]\n",
    "}"
   ]
  },
  {
   "cell_type": "code",
   "execution_count": 4,
   "id": "79d7d7fa",
   "metadata": {},
   "outputs": [
    {
     "data": {
      "text/plain": [
       "Team\n",
       "busan     98.337853\n",
       "seoul    211.671129\n",
       "ulsan     61.518290\n",
       "Name: Points, dtype: float64"
      ]
     },
     "execution_count": 4,
     "metadata": {},
     "output_type": "execute_result"
    }
   ],
   "source": [
    "df = pd.DataFrame(ipl_data)\n",
    "df.groupby(\"Team\")[\"Points\"].std()"
   ]
  },
  {
   "cell_type": "code",
   "execution_count": 5,
   "id": "3f52b454",
   "metadata": {},
   "outputs": [
    {
     "data": {
      "text/plain": [
       "Team   Year\n",
       "busan  2014    1675\n",
       "       2015     673\n",
       "seoul  2015     741\n",
       "       2016     756\n",
       "       2017     899\n",
       "       2019     400\n",
       "ulsan  2014     876\n",
       "       2015     789\n",
       "Name: Points, dtype: int64"
      ]
     },
     "execution_count": 5,
     "metadata": {},
     "output_type": "execute_result"
    }
   ],
   "source": [
    "df.groupby([\"Team\", \"Year\"])[\"Points\"].sum()"
   ]
  },
  {
   "cell_type": "code",
   "execution_count": null,
   "id": "32105039",
   "metadata": {},
   "outputs": [],
   "source": []
  }
 ],
 "metadata": {
  "kernelspec": {
   "display_name": "ml",
   "language": "python",
   "name": "python3"
  },
  "language_info": {
   "codemirror_mode": {
    "name": "ipython",
    "version": 3
   },
   "file_extension": ".py",
   "mimetype": "text/x-python",
   "name": "python",
   "nbconvert_exporter": "python",
   "pygments_lexer": "ipython3",
   "version": "3.9.23"
  }
 },
 "nbformat": 4,
 "nbformat_minor": 5
}
