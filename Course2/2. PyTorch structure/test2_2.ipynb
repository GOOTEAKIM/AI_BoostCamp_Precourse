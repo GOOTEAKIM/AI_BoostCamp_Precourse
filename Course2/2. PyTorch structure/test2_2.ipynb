{
 "cells": [
  {
   "cell_type": "code",
   "execution_count": 1,
   "id": "ea6699eb",
   "metadata": {},
   "outputs": [],
   "source": [
    "import os\n",
    "import sys\n",
    "import torch\n",
    "import requests\n",
    "import tarfile\n",
    "import matplotlib.pyplot as plt\n",
    "from tqdm import tqdm\n",
    "from pathlib import Path\n",
    "from skimage import io, transform\n",
    "from torchvision import transforms, datasets\n",
    "from torchvision.datasets import VisionDataset\n",
    "from typing import Any, Callable, Dict, List, Optional, Tuple\n",
    "from torch.utils.data import Dataset, DataLoader"
   ]
  },
  {
   "cell_type": "code",
   "execution_count": 3,
   "id": "65748241",
   "metadata": {},
   "outputs": [],
   "source": [
    "class NotMNIST(VisionDataset):\n",
    "    # notMNIST 데이터셋의 다운로드 URL\n",
    "    resource_url = 'http://yaroslavvb.com/upload/notMNIST/notMNIST_large.tar.gz'\n",
    "\n",
    "    # 초기화 함수\n",
    "    def __init__(self, root: str, train: bool = True,\n",
    "                 transform: Optional[Callable] = None,\n",
    "                 target_transform: Optional[Callable] = None,\n",
    "                 download: bool = False) -> None:\n",
    "        super(NotMNIST, self).__init__(root, transform=transform, target_transform=target_transform)\n",
    "\n",
    "        # 데이터셋이 존재하지 않으면 다운로드\n",
    "        if not self._check_exists() or download:\n",
    "            self.download()\n",
    "\n",
    "        # 데이터 로드\n",
    "        self.data, self.targets = self._load_data()\n",
    "\n",
    "    # 데이터셋의 길이 반환\n",
    "    def __len__(self):\n",
    "        return len(self.data)\n",
    "\n",
    "    # 인덱스에 해당하는 데이터 반환\n",
    "    def __getitem__(self, index):\n",
    "        image_name = self.data[index]\n",
    "        image = io.imread(image_name)\n",
    "        label = self.targets[index]\n",
    "\n",
    "        if self.transform:\n",
    "            image = self.transform(image)\n",
    "\n",
    "        return image, label\n",
    "\n",
    "    # 데이터 로드 함수\n",
    "    def _load_data(self):\n",
    "        filepath = self.image_folder\n",
    "        data = []\n",
    "        targets = []\n",
    "\n",
    "        # 각 클래스별로 데이터 로드\n",
    "        for target in os.listdir(filepath):\n",
    "            filenames = [os.path.abspath(os.path.join(filepath, target, x)) for x in os.listdir(os.path.join(filepath, target))]\n",
    "            targets.extend([target] * len(filenames))\n",
    "            data.extend(filenames)\n",
    "\n",
    "        return data, targets\n",
    "\n",
    "    # 원본 데이터 폴더 경로\n",
    "    @property\n",
    "    def raw_folder(self) -> str:\n",
    "        return os.path.join(self.root, self.__class__.__name__, 'raw')\n",
    "\n",
    "    # 이미지 폴더 경로\n",
    "    @property\n",
    "    def image_folder(self) -> str:\n",
    "        return os.path.join(self.root, 'notMNIST_large')\n",
    "\n",
    "    # 데이터 다운로드 함수\n",
    "    def download(self) -> None:\n",
    "        os.makedirs(self.raw_folder, exist_ok=True)\n",
    "        fname = self.resource_url.split(\"/\")[-1]\n",
    "        user_agent = 'Mozilla/5.0 (Macintosh; Intel Mac OS X 10_10_1) AppleWebKit/537.36 (KHTML, like Gecko) Chrome/39.0.2171.95 Safari/537.36'\n",
    "        filesize = int(requests.head(self.resource_url, headers={\"User-Agent\": user_agent}).headers[\"Content-Length\"])\n",
    "\n",
    "        # 데이터 다운로드 진행 상황 표시\n",
    "        with requests.get(self.resource_url, stream=True, headers={\"User-Agent\": user_agent}) as r, \\\n",
    "                open(os.path.join(self.raw_folder, fname), \"wb\") as f, \\\n",
    "                tqdm(unit=\"B\", unit_scale=True, unit_divisor=1024, total=filesize, file=sys.stdout, desc=fname) as progress:\n",
    "            for chunk in r.iter_content(chunk_size=1024):\n",
    "                datasize = f.write(chunk)\n",
    "                progress.update(datasize)\n",
    "\n",
    "        # 다운로드한 파일 압축 해제\n",
    "        self._extract_file(os.path.join(self.raw_folder, fname), target_path=self.root)\n",
    "\n",
    "    # 파일 압축 해제 함수\n",
    "    def _extract_file(self, fname, target_path) -> None:\n",
    "        tag = \"r:gz\" if fname.endswith(\"tar.gz\") else \"r:\"\n",
    "        with tarfile.open(fname, tag) as tar:\n",
    "            tar.extractall(path=target_path)\n",
    "\n",
    "    # 데이터셋 존재 여부 확인 함수\n",
    "    def _check_exists(self) -> bool:\n",
    "        return os.path.exists(self.raw_folder)\n"
   ]
  },
  {
   "cell_type": "code",
   "execution_count": 4,
   "id": "e9949cb7",
   "metadata": {},
   "outputs": [
    {
     "name": "stdout",
     "output_type": "stream",
     "text": [
      "notMNIST_large.tar.gz: 100%|██████████| 236M/236M [00:31<00:00, 7.80MB/s] \n"
     ]
    },
    {
     "ename": "KeyboardInterrupt",
     "evalue": "",
     "output_type": "error",
     "traceback": [
      "\u001b[1;31m---------------------------------------------------------------------------\u001b[0m",
      "\u001b[1;31mKeyboardInterrupt\u001b[0m                         Traceback (most recent call last)",
      "Cell \u001b[1;32mIn[4], line 2\u001b[0m\n\u001b[0;32m      1\u001b[0m \u001b[38;5;66;03m# 데이터셋 생성\u001b[39;00m\n\u001b[1;32m----> 2\u001b[0m dataset \u001b[38;5;241m=\u001b[39m \u001b[43mNotMNIST\u001b[49m\u001b[43m(\u001b[49m\u001b[38;5;124;43m\"\u001b[39;49m\u001b[38;5;124;43mdata\u001b[39;49m\u001b[38;5;124;43m\"\u001b[39;49m\u001b[43m,\u001b[49m\u001b[43m \u001b[49m\u001b[43mdownload\u001b[49m\u001b[38;5;241;43m=\u001b[39;49m\u001b[38;5;28;43;01mTrue\u001b[39;49;00m\u001b[43m)\u001b[49m\n",
      "Cell \u001b[1;32mIn[3], line 14\u001b[0m, in \u001b[0;36mNotMNIST.__init__\u001b[1;34m(self, root, train, transform, target_transform, download)\u001b[0m\n\u001b[0;32m     12\u001b[0m \u001b[38;5;66;03m# 데이터셋이 존재하지 않으면 다운로드\u001b[39;00m\n\u001b[0;32m     13\u001b[0m \u001b[38;5;28;01mif\u001b[39;00m \u001b[38;5;129;01mnot\u001b[39;00m \u001b[38;5;28mself\u001b[39m\u001b[38;5;241m.\u001b[39m_check_exists() \u001b[38;5;129;01mor\u001b[39;00m download:\n\u001b[1;32m---> 14\u001b[0m     \u001b[38;5;28;43mself\u001b[39;49m\u001b[38;5;241;43m.\u001b[39;49m\u001b[43mdownload\u001b[49m\u001b[43m(\u001b[49m\u001b[43m)\u001b[49m\n\u001b[0;32m     16\u001b[0m \u001b[38;5;66;03m# 데이터 로드\u001b[39;00m\n\u001b[0;32m     17\u001b[0m \u001b[38;5;28mself\u001b[39m\u001b[38;5;241m.\u001b[39mdata, \u001b[38;5;28mself\u001b[39m\u001b[38;5;241m.\u001b[39mtargets \u001b[38;5;241m=\u001b[39m \u001b[38;5;28mself\u001b[39m\u001b[38;5;241m.\u001b[39m_load_data()\n",
      "Cell \u001b[1;32mIn[3], line 74\u001b[0m, in \u001b[0;36mNotMNIST.download\u001b[1;34m(self)\u001b[0m\n\u001b[0;32m     71\u001b[0m         progress\u001b[38;5;241m.\u001b[39mupdate(datasize)\n\u001b[0;32m     73\u001b[0m \u001b[38;5;66;03m# 다운로드한 파일 압축 해제\u001b[39;00m\n\u001b[1;32m---> 74\u001b[0m \u001b[38;5;28;43mself\u001b[39;49m\u001b[38;5;241;43m.\u001b[39;49m\u001b[43m_extract_file\u001b[49m\u001b[43m(\u001b[49m\u001b[43mos\u001b[49m\u001b[38;5;241;43m.\u001b[39;49m\u001b[43mpath\u001b[49m\u001b[38;5;241;43m.\u001b[39;49m\u001b[43mjoin\u001b[49m\u001b[43m(\u001b[49m\u001b[38;5;28;43mself\u001b[39;49m\u001b[38;5;241;43m.\u001b[39;49m\u001b[43mraw_folder\u001b[49m\u001b[43m,\u001b[49m\u001b[43m \u001b[49m\u001b[43mfname\u001b[49m\u001b[43m)\u001b[49m\u001b[43m,\u001b[49m\u001b[43m \u001b[49m\u001b[43mtarget_path\u001b[49m\u001b[38;5;241;43m=\u001b[39;49m\u001b[38;5;28;43mself\u001b[39;49m\u001b[38;5;241;43m.\u001b[39;49m\u001b[43mroot\u001b[49m\u001b[43m)\u001b[49m\n",
      "Cell \u001b[1;32mIn[3], line 80\u001b[0m, in \u001b[0;36mNotMNIST._extract_file\u001b[1;34m(self, fname, target_path)\u001b[0m\n\u001b[0;32m     78\u001b[0m tag \u001b[38;5;241m=\u001b[39m \u001b[38;5;124m\"\u001b[39m\u001b[38;5;124mr:gz\u001b[39m\u001b[38;5;124m\"\u001b[39m \u001b[38;5;28;01mif\u001b[39;00m fname\u001b[38;5;241m.\u001b[39mendswith(\u001b[38;5;124m\"\u001b[39m\u001b[38;5;124mtar.gz\u001b[39m\u001b[38;5;124m\"\u001b[39m) \u001b[38;5;28;01melse\u001b[39;00m \u001b[38;5;124m\"\u001b[39m\u001b[38;5;124mr:\u001b[39m\u001b[38;5;124m\"\u001b[39m\n\u001b[0;32m     79\u001b[0m \u001b[38;5;28;01mwith\u001b[39;00m tarfile\u001b[38;5;241m.\u001b[39mopen(fname, tag) \u001b[38;5;28;01mas\u001b[39;00m tar:\n\u001b[1;32m---> 80\u001b[0m     \u001b[43mtar\u001b[49m\u001b[38;5;241;43m.\u001b[39;49m\u001b[43mextractall\u001b[49m\u001b[43m(\u001b[49m\u001b[43mpath\u001b[49m\u001b[38;5;241;43m=\u001b[39;49m\u001b[43mtarget_path\u001b[49m\u001b[43m)\u001b[49m\n",
      "File \u001b[1;32mc:\\Users\\user\\miniconda3\\envs\\ml\\lib\\tarfile.py:2297\u001b[0m, in \u001b[0;36mTarFile.extractall\u001b[1;34m(self, path, members, numeric_owner, filter)\u001b[0m\n\u001b[0;32m   2292\u001b[0m     \u001b[38;5;28;01mif\u001b[39;00m tarinfo\u001b[38;5;241m.\u001b[39misdir():\n\u001b[0;32m   2293\u001b[0m         \u001b[38;5;66;03m# For directories, delay setting attributes until later,\u001b[39;00m\n\u001b[0;32m   2294\u001b[0m         \u001b[38;5;66;03m# since permissions can interfere with extraction and\u001b[39;00m\n\u001b[0;32m   2295\u001b[0m         \u001b[38;5;66;03m# extracting contents can reset mtime.\u001b[39;00m\n\u001b[0;32m   2296\u001b[0m         directories\u001b[38;5;241m.\u001b[39mappend(unfiltered)\n\u001b[1;32m-> 2297\u001b[0m     \u001b[38;5;28;43mself\u001b[39;49m\u001b[38;5;241;43m.\u001b[39;49m\u001b[43m_extract_one\u001b[49m\u001b[43m(\u001b[49m\u001b[43mtarinfo\u001b[49m\u001b[43m,\u001b[49m\u001b[43m \u001b[49m\u001b[43mpath\u001b[49m\u001b[43m,\u001b[49m\u001b[43m \u001b[49m\u001b[43mset_attrs\u001b[49m\u001b[38;5;241;43m=\u001b[39;49m\u001b[38;5;129;43;01mnot\u001b[39;49;00m\u001b[43m \u001b[49m\u001b[43mtarinfo\u001b[49m\u001b[38;5;241;43m.\u001b[39;49m\u001b[43misdir\u001b[49m\u001b[43m(\u001b[49m\u001b[43m)\u001b[49m\u001b[43m,\u001b[49m\n\u001b[0;32m   2298\u001b[0m \u001b[43m                      \u001b[49m\u001b[43mnumeric_owner\u001b[49m\u001b[38;5;241;43m=\u001b[39;49m\u001b[43mnumeric_owner\u001b[49m\u001b[43m,\u001b[49m\n\u001b[0;32m   2299\u001b[0m \u001b[43m                      \u001b[49m\u001b[43mfilter_function\u001b[49m\u001b[38;5;241;43m=\u001b[39;49m\u001b[43mfilter_function\u001b[49m\u001b[43m)\u001b[49m\n\u001b[0;32m   2301\u001b[0m \u001b[38;5;66;03m# Reverse sort directories.\u001b[39;00m\n\u001b[0;32m   2302\u001b[0m directories\u001b[38;5;241m.\u001b[39msort(key\u001b[38;5;241m=\u001b[39m\u001b[38;5;28;01mlambda\u001b[39;00m a: a\u001b[38;5;241m.\u001b[39mname, reverse\u001b[38;5;241m=\u001b[39m\u001b[38;5;28;01mTrue\u001b[39;00m)\n",
      "File \u001b[1;32mc:\\Users\\user\\miniconda3\\envs\\ml\\lib\\tarfile.py:2400\u001b[0m, in \u001b[0;36mTarFile._extract_one\u001b[1;34m(self, tarinfo, path, set_attrs, numeric_owner, filter_function)\u001b[0m\n\u001b[0;32m   2397\u001b[0m \u001b[38;5;28mself\u001b[39m\u001b[38;5;241m.\u001b[39m_check(\u001b[38;5;124m\"\u001b[39m\u001b[38;5;124mr\u001b[39m\u001b[38;5;124m\"\u001b[39m)\n\u001b[0;32m   2399\u001b[0m \u001b[38;5;28;01mtry\u001b[39;00m:\n\u001b[1;32m-> 2400\u001b[0m     \u001b[38;5;28;43mself\u001b[39;49m\u001b[38;5;241;43m.\u001b[39;49m\u001b[43m_extract_member\u001b[49m\u001b[43m(\u001b[49m\u001b[43mtarinfo\u001b[49m\u001b[43m,\u001b[49m\u001b[43m \u001b[49m\u001b[43mos\u001b[49m\u001b[38;5;241;43m.\u001b[39;49m\u001b[43mpath\u001b[49m\u001b[38;5;241;43m.\u001b[39;49m\u001b[43mjoin\u001b[49m\u001b[43m(\u001b[49m\u001b[43mpath\u001b[49m\u001b[43m,\u001b[49m\u001b[43m \u001b[49m\u001b[43mtarinfo\u001b[49m\u001b[38;5;241;43m.\u001b[39;49m\u001b[43mname\u001b[49m\u001b[43m)\u001b[49m\u001b[43m,\u001b[49m\n\u001b[0;32m   2401\u001b[0m \u001b[43m                         \u001b[49m\u001b[43mset_attrs\u001b[49m\u001b[38;5;241;43m=\u001b[39;49m\u001b[43mset_attrs\u001b[49m\u001b[43m,\u001b[49m\n\u001b[0;32m   2402\u001b[0m \u001b[43m                         \u001b[49m\u001b[43mnumeric_owner\u001b[49m\u001b[38;5;241;43m=\u001b[39;49m\u001b[43mnumeric_owner\u001b[49m\u001b[43m,\u001b[49m\n\u001b[0;32m   2403\u001b[0m \u001b[43m                         \u001b[49m\u001b[43mfilter_function\u001b[49m\u001b[38;5;241;43m=\u001b[39;49m\u001b[43mfilter_function\u001b[49m\u001b[43m,\u001b[49m\n\u001b[0;32m   2404\u001b[0m \u001b[43m                         \u001b[49m\u001b[43mextraction_root\u001b[49m\u001b[38;5;241;43m=\u001b[39;49m\u001b[43mpath\u001b[49m\u001b[43m)\u001b[49m\n\u001b[0;32m   2405\u001b[0m \u001b[38;5;28;01mexcept\u001b[39;00m \u001b[38;5;167;01mOSError\u001b[39;00m \u001b[38;5;28;01mas\u001b[39;00m e:\n\u001b[0;32m   2406\u001b[0m     \u001b[38;5;28mself\u001b[39m\u001b[38;5;241m.\u001b[39m_handle_fatal_error(e)\n",
      "File \u001b[1;32mc:\\Users\\user\\miniconda3\\envs\\ml\\lib\\tarfile.py:2478\u001b[0m, in \u001b[0;36mTarFile._extract_member\u001b[1;34m(self, tarinfo, targetpath, set_attrs, numeric_owner, filter_function, extraction_root)\u001b[0m\n\u001b[0;32m   2476\u001b[0m \u001b[38;5;66;03m# Create all upper directories.\u001b[39;00m\n\u001b[0;32m   2477\u001b[0m upperdirs \u001b[38;5;241m=\u001b[39m os\u001b[38;5;241m.\u001b[39mpath\u001b[38;5;241m.\u001b[39mdirname(targetpath)\n\u001b[1;32m-> 2478\u001b[0m \u001b[38;5;28;01mif\u001b[39;00m upperdirs \u001b[38;5;129;01mand\u001b[39;00m \u001b[38;5;129;01mnot\u001b[39;00m \u001b[43mos\u001b[49m\u001b[38;5;241;43m.\u001b[39;49m\u001b[43mpath\u001b[49m\u001b[38;5;241;43m.\u001b[39;49m\u001b[43mexists\u001b[49m\u001b[43m(\u001b[49m\u001b[43mupperdirs\u001b[49m\u001b[43m)\u001b[49m:\n\u001b[0;32m   2479\u001b[0m     \u001b[38;5;66;03m# Create directories that are not part of the archive with\u001b[39;00m\n\u001b[0;32m   2480\u001b[0m     \u001b[38;5;66;03m# default permissions.\u001b[39;00m\n\u001b[0;32m   2481\u001b[0m     os\u001b[38;5;241m.\u001b[39mmakedirs(upperdirs)\n\u001b[0;32m   2483\u001b[0m \u001b[38;5;28;01mif\u001b[39;00m tarinfo\u001b[38;5;241m.\u001b[39mislnk() \u001b[38;5;129;01mor\u001b[39;00m tarinfo\u001b[38;5;241m.\u001b[39missym():\n",
      "File \u001b[1;32mc:\\Users\\user\\miniconda3\\envs\\ml\\lib\\genericpath.py:19\u001b[0m, in \u001b[0;36mexists\u001b[1;34m(path)\u001b[0m\n\u001b[0;32m     17\u001b[0m \u001b[38;5;250m\u001b[39m\u001b[38;5;124;03m\"\"\"Test whether a path exists.  Returns False for broken symbolic links\"\"\"\u001b[39;00m\n\u001b[0;32m     18\u001b[0m \u001b[38;5;28;01mtry\u001b[39;00m:\n\u001b[1;32m---> 19\u001b[0m     \u001b[43mos\u001b[49m\u001b[38;5;241;43m.\u001b[39;49m\u001b[43mstat\u001b[49m\u001b[43m(\u001b[49m\u001b[43mpath\u001b[49m\u001b[43m)\u001b[49m\n\u001b[0;32m     20\u001b[0m \u001b[38;5;28;01mexcept\u001b[39;00m (\u001b[38;5;167;01mOSError\u001b[39;00m, \u001b[38;5;167;01mValueError\u001b[39;00m):\n\u001b[0;32m     21\u001b[0m     \u001b[38;5;28;01mreturn\u001b[39;00m \u001b[38;5;28;01mFalse\u001b[39;00m\n",
      "\u001b[1;31mKeyboardInterrupt\u001b[0m: "
     ]
    }
   ],
   "source": [
    "# 데이터셋 생성\n",
    "dataset = NotMNIST(\"data\", download=True)"
   ]
  },
  {
   "cell_type": "code",
   "execution_count": 5,
   "id": "bd98d16d",
   "metadata": {},
   "outputs": [
    {
     "ename": "NameError",
     "evalue": "name 'dataset' is not defined",
     "output_type": "error",
     "traceback": [
      "\u001b[1;31m---------------------------------------------------------------------------\u001b[0m",
      "\u001b[1;31mNameError\u001b[0m                                 Traceback (most recent call last)",
      "Cell \u001b[1;32mIn[5], line 7\u001b[0m\n\u001b[0;32m      4\u001b[0m \u001b[38;5;66;03m# 8개의 샘플 이미지를 출력하기 위한 반복문입니다.\u001b[39;00m\n\u001b[0;32m      5\u001b[0m \u001b[38;5;28;01mfor\u001b[39;00m i \u001b[38;5;129;01min\u001b[39;00m \u001b[38;5;28mrange\u001b[39m(\u001b[38;5;241m8\u001b[39m):\n\u001b[0;32m      6\u001b[0m     \u001b[38;5;66;03m# i번째 샘플 데이터를 가져옵니다.\u001b[39;00m\n\u001b[1;32m----> 7\u001b[0m     sample \u001b[38;5;241m=\u001b[39m \u001b[43mdataset\u001b[49m[i]\n\u001b[0;32m      9\u001b[0m     \u001b[38;5;66;03m# 1행 4열의 서브플롯 중 i+1번째 위치에 그래프를 그립니다.\u001b[39;00m\n\u001b[0;32m     10\u001b[0m     ax \u001b[38;5;241m=\u001b[39m plt\u001b[38;5;241m.\u001b[39msubplot(\u001b[38;5;241m1\u001b[39m, \u001b[38;5;241m4\u001b[39m, i \u001b[38;5;241m+\u001b[39m \u001b[38;5;241m1\u001b[39m)\n",
      "\u001b[1;31mNameError\u001b[0m: name 'dataset' is not defined"
     ]
    },
    {
     "data": {
      "text/plain": [
       "<Figure size 640x480 with 0 Axes>"
      ]
     },
     "metadata": {},
     "output_type": "display_data"
    }
   ],
   "source": [
    "# 새로운 그림(figure) 객체를 생성합니다.\n",
    "fig = plt.figure()\n",
    "\n",
    "# 8개의 샘플 이미지를 출력하기 위한 반복문입니다.\n",
    "for i in range(8):\n",
    "    # i번째 샘플 데이터를 가져옵니다.\n",
    "    sample = dataset[i]\n",
    "\n",
    "    # 1행 4열의 서브플롯 중 i+1번째 위치에 그래프를 그립니다.\n",
    "    ax = plt.subplot(1, 4, i + 1)\n",
    "\n",
    "    # 레이아웃을 조절하여 그래프 간의 간격을 최적화합니다.\n",
    "    plt.tight_layout()\n",
    "\n",
    "    # 서브플롯의 제목을 설정합니다.\n",
    "    ax.set_title('Sample #{}'.format(i))\n",
    "\n",
    "    # 서브플롯의 축을 숨깁니다.\n",
    "    ax.axis('off')\n",
    "\n",
    "    # 샘플 이미지를 출력합니다.\n",
    "    plt.imshow(sample[0])\n",
    "\n",
    "    # 4개의 샘플 이미지를 출력한 후 그림을 화면에 표시하고 반복문을 종료합니다.\n",
    "    if i == 3:\n",
    "        plt.show()\n",
    "        break\n"
   ]
  },
  {
   "cell_type": "code",
   "execution_count": null,
   "id": "0fa3f8b7",
   "metadata": {},
   "outputs": [],
   "source": [
    "# 데이터 전처리를 위한 변환(Transform) 객체를 생성합니다.\n",
    "# 여러 전처리 단계를 순차적으로 적용하기 위해 Compose를 사용합니다.\n",
    "data_transform = transforms.Compose([\n",
    "\n",
    "        # 224x224 크기로 무작위로 이미지를 잘라냅니다.\n",
    "        transforms.RandomCrop(224),\n",
    "\n",
    "        # 0.5의 확률로 이미지를 수평으로 뒤집습니다.\n",
    "        transforms.RandomHorizontalFlip(),\n",
    "\n",
    "        # 이미지를 텐서(Tensor) 형태로 변환합니다.\n",
    "        transforms.ToTensor(),\n",
    "\n",
    "        # 주어진 평균과 표준편차를 사용하여 이미지를 정규화합니다.\n",
    "        transforms.Normalize(mean=[0.485, 0.456, 0.406],\n",
    "                             std=[0.229, 0.224, 0.225])\n",
    "    ])\n",
    "\n",
    "# NotMNIST 데이터셋을 로드합니다. 다운로드는 하지 않습니다.\n",
    "dataset = NotMNIST(\"data\", download=False)"
   ]
  },
  {
   "cell_type": "code",
   "execution_count": null,
   "id": "ab3e458a",
   "metadata": {},
   "outputs": [],
   "source": [
    "# 데이터셋을 배치 크기로 나누어 로드하기 위한 DataLoader 객체를 생성합니다.\n",
    "# 배치 크기는 128, 데이터를 섞어서 로드합니다.\n",
    "dataset_loader = torch.utils.data.DataLoader(dataset,\n",
    "                                             batch_size=128, shuffle=True)"
   ]
  },
  {
   "cell_type": "code",
   "execution_count": null,
   "id": "cee1aaf9",
   "metadata": {},
   "outputs": [],
   "source": [
    "# DataLoader에서 첫 번째 배치의 특성(features)과 레이블(labels)을 가져옵니다.\n",
    "train_features, train_labels = next(iter(dataset_loader))"
   ]
  },
  {
   "cell_type": "code",
   "execution_count": null,
   "id": "746521e4",
   "metadata": {},
   "outputs": [],
   "source": [
    "# 첫 번째 배치의 특성의 형태(shape)를 출력합니다.\n",
    "train_features.shape"
   ]
  },
  {
   "cell_type": "code",
   "execution_count": null,
   "id": "60d37ee9",
   "metadata": {},
   "outputs": [],
   "source": [
    "# 첫 번째 배치의 레이블을 출력합니다.\n",
    "train_labels"
   ]
  }
 ],
 "metadata": {
  "kernelspec": {
   "display_name": "ml",
   "language": "python",
   "name": "python3"
  },
  "language_info": {
   "codemirror_mode": {
    "name": "ipython",
    "version": 3
   },
   "file_extension": ".py",
   "mimetype": "text/x-python",
   "name": "python",
   "nbconvert_exporter": "python",
   "pygments_lexer": "ipython3",
   "version": "3.9.23"
  }
 },
 "nbformat": 4,
 "nbformat_minor": 5
}
