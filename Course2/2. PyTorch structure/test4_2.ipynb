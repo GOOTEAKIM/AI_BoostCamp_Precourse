{
 "cells": [
  {
   "cell_type": "markdown",
   "id": "7592c9a0",
   "metadata": {},
   "source": [
    "## 1. 데이터 전처리 및 모델 정의"
   ]
  },
  {
   "cell_type": "code",
   "execution_count": 13,
   "id": "8549e38b",
   "metadata": {},
   "outputs": [],
   "source": [
    "import numpy as np\n",
    "import matplotlib.pyplot as plt\n",
    "\n",
    "import torch\n",
    "import torch.nn as nn\n",
    "import torch.nn.functional as F\n",
    "import torch.optim as optim\n",
    "import torchvision\n",
    "import torchvision.transforms as transforms\n",
    "from torch.utils.tensorboard import SummaryWriter"
   ]
  },
  {
   "cell_type": "code",
   "execution_count": 14,
   "id": "8235ee3b",
   "metadata": {},
   "outputs": [],
   "source": [
    "# 이미지 전처리를 위한 변환(transform) 설정\n",
    "\n",
    "transform = transforms.Compose(\n",
    "    [transforms.ToTensor(),\n",
    "     transforms.Normalize((0.5,), (0.5,))])\n",
    "\n",
    "# FashionMNIST 데이터셋 다운로드 및 로드\n",
    "\n",
    "# 학습 데이터\n",
    "trainset = torchvision.datasets.FashionMNIST('./data',\n",
    "                                             download=True,\n",
    "                                             train=True,\n",
    "                                             transform=transform)\n",
    "\n",
    "# 테스트 데이터\n",
    "testset = torchvision.datasets.FashionMNIST('./data',\n",
    "                                            download=True,\n",
    "                                            train=False,\n",
    "                                            transform=transform)\n",
    "\n",
    "# 데이터 로더 설정\n",
    "\n",
    "# 학습 데이터 로더\n",
    "trainloader = torch.utils.data.DataLoader(trainset, batch_size=4,\n",
    "                                          shuffle=True, num_workers=2)\n",
    "\n",
    "# 테스트 데이터 로더\n",
    "testloader = torch.utils.data.DataLoader(testset, batch_size=4,\n",
    "                                         shuffle=False, num_workers=2)\n",
    "\n",
    "# FashionMNIST의 클래스(레이블) 정보\n",
    "classes = ('T-shirt/top', 'Trouser', 'Pullover', 'Dress', 'Coat',\n",
    "        'Sandal', 'Shirt', 'Sneaker', 'Bag', 'Ankle Boot')"
   ]
  },
  {
   "cell_type": "code",
   "execution_count": 15,
   "id": "2e42c46a",
   "metadata": {},
   "outputs": [],
   "source": [
    "# 이미지를 출력하기 위한 도우미 함수\n",
    "\n",
    "def matplotlib_imshow(img, one_channel=False):\n",
    "    if one_channel:\n",
    "        img = img.mean(dim=0)\n",
    "    img = img / 2 + 0.5 # 정규화 해제\n",
    "    npimg = img.numpy()\n",
    "\n",
    "    if one_channel:\n",
    "        plt.imshow(npimg, cmap=\"Greys\")\n",
    "    else:\n",
    "        plt.imshow(np.transpose(npimg, (1,2,0)))"
   ]
  },
  {
   "cell_type": "code",
   "execution_count": 16,
   "id": "86b811bb",
   "metadata": {},
   "outputs": [],
   "source": [
    "# 신경망 모델 정의\n",
    "\n",
    "class Net(nn.Module):\n",
    "    \n",
    "    def __init__(self):\n",
    "        super(Net,self).__init__()\n",
    "        self.conv1 = nn.Conv2d(1,6,5)\n",
    "        self.pool = nn.MaxPool2d(2,2)\n",
    "        self.conv2 = nn.Conv2d(6,16,5)\n",
    "        self.fc1 = nn.Linear(16*4*4, 120)\n",
    "        self.fc2 = nn.Linear(120,84)\n",
    "        self.fc3 = nn.Linear(84,10)\n",
    "\n",
    "    def forward(self,x):\n",
    "        x = self.pool(F.relu(self.conv1(x)))\n",
    "        x = self.pool(F.relu(self.conv2(x)))\n",
    "\n",
    "        x = x.view(-1, 16*4*4)\n",
    "\n",
    "        x = F.relu(self.fc1(x))\n",
    "        x = F.relu(self.fc2(x))\n",
    "        x = self.fc3(x)\n",
    "        return x\n",
    "    \n",
    "# 모델 인스턴스 생성\n",
    "net = Net()"
   ]
  },
  {
   "cell_type": "code",
   "execution_count": 17,
   "id": "1fed9d36",
   "metadata": {},
   "outputs": [],
   "source": [
    "# 손실 함수 및 최적화기 설정\n",
    "\n",
    "criterion = nn.CrossEntropyLoss()\n",
    "optimizer = optim.SGD(net.parameters(),lr=0.001, momentum=0.9)"
   ]
  },
  {
   "cell_type": "markdown",
   "id": "775e310f",
   "metadata": {},
   "source": [
    "## 2. TensorBoard 설정 및 초기 시각화"
   ]
  },
  {
   "cell_type": "code",
   "execution_count": 18,
   "id": "40cc3085",
   "metadata": {},
   "outputs": [],
   "source": [
    "# TensorBoard 로그 디렉토리 설정\n",
    "\n",
    "writer = SummaryWriter('app/fasion_mnist_experiment_1')"
   ]
  },
  {
   "cell_type": "code",
   "execution_count": 19,
   "id": "33a43249",
   "metadata": {},
   "outputs": [
    {
     "name": "stdout",
     "output_type": "stream",
     "text": [
      "The tensorboard extension is already loaded. To reload it, use:\n",
      "  %reload_ext tensorboard\n"
     ]
    }
   ],
   "source": [
    "# TensorBoard 확장 로드\n",
    "\n",
    "%load_ext tensorboard"
   ]
  },
  {
   "cell_type": "code",
   "execution_count": 32,
   "id": "399d902f",
   "metadata": {},
   "outputs": [
    {
     "data": {
      "text/plain": [
       "Reusing TensorBoard on port 6007 (pid 81380), started 0:25:00 ago. (Use '!kill 81380' to kill it.)"
      ]
     },
     "metadata": {},
     "output_type": "display_data"
    },
    {
     "data": {
      "text/html": [
       "\n",
       "      <iframe id=\"tensorboard-frame-e911b778112b7547\" width=\"100%\" height=\"800\" frameborder=\"0\">\n",
       "      </iframe>\n",
       "      <script>\n",
       "        (function() {\n",
       "          const frame = document.getElementById(\"tensorboard-frame-e911b778112b7547\");\n",
       "          const url = new URL(\"http://localhost\");\n",
       "          const port = 6007;\n",
       "          if (port) {\n",
       "            url.port = port;\n",
       "          }\n",
       "          frame.src = url;\n",
       "        })();\n",
       "      </script>\n",
       "    "
      ],
      "text/plain": [
       "<IPython.core.display.HTML object>"
      ]
     },
     "metadata": {},
     "output_type": "display_data"
    }
   ],
   "source": [
    "# TensorBoard 실행\n",
    "\n",
    "%tensorboard --logdir \"app\""
   ]
  },
  {
   "cell_type": "code",
   "execution_count": 31,
   "id": "7140f262",
   "metadata": {},
   "outputs": [
    {
     "name": "stderr",
     "output_type": "stream",
     "text": [
      "TensorFlow installation not found - running with reduced feature set.\n",
      "usage: tensorboard [-h] [--helpfull] [--logdir PATH] [--logdir_spec PATH_SPEC]\n",
      "                   [--host ADDR] [--bind_all] [--port PORT]\n",
      "                   [--reuse_port BOOL] [--load_fast {false,auto,true}]\n",
      "                   [--extra_data_server_flags EXTRA_DATA_SERVER_FLAGS]\n",
      "                   [--grpc_creds_type {local,ssl,ssl_dev}]\n",
      "                   [--grpc_data_provider PORT] [--purge_orphaned_data BOOL]\n",
      "                   [--db URI] [--db_import] [--inspect] [--version_tb]\n",
      "                   [--tag TAG] [--event_file PATH] [--path_prefix PATH]\n",
      "                   [--window_title TEXT] [--max_reload_threads COUNT]\n",
      "                   [--reload_interval SECONDS] [--reload_task TYPE]\n",
      "                   [--reload_multifile BOOL]\n",
      "                   [--reload_multifile_inactive_secs SECONDS]\n",
      "                   [--generic_data TYPE]\n",
      "                   [--samples_per_plugin SAMPLES_PER_PLUGIN]\n",
      "                   [--detect_file_replacement BOOL]\n",
      "                   {serve} ...\n",
      "tensorboard: error: argument --reload_interval: expected one argument\n"
     ]
    }
   ],
   "source": [
    "# 캐시 생겼을 경우 종료하고 다시 실행\n",
    "\n",
    "!tensorboard --logdir logs --port 6006 --reload_interval"
   ]
  },
  {
   "cell_type": "code",
   "execution_count": 22,
   "id": "a51a4b71",
   "metadata": {},
   "outputs": [
    {
     "data": {
      "image/png": "[encoded data removed]",
      "text/plain": [
       "<Figure size 640x480 with 1 Axes>"
      ]
     },
     "metadata": {},
     "output_type": "display_data"
    }
   ],
   "source": [
    "# 무작위 학습 이미지 몇 개 선택\n",
    "\n",
    "dataiter = iter(trainloader)\n",
    "images, labels = next(iter(dataiter))\n",
    "\n",
    "# 이미지 그리드 생성\n",
    "\n",
    "img_grid = torchvision.utils.make_grid(images)\n",
    "\n",
    "# 이미지 출력\n",
    "\n",
    "matplotlib_imshow(img_grid, one_channel=True)\n",
    "\n",
    "# TensorBoard에 이미지 기록\n",
    "\n",
    "writer.add_image('four_fasion_mnist_images', img_grid)\n"
   ]
  },
  {
   "cell_type": "code",
   "execution_count": 23,
   "id": "336be349",
   "metadata": {},
   "outputs": [],
   "source": [
    "# TensorBoard에 모델 그래프 추가\n",
    "\n",
    "writer.add_graph(net, images)\n",
    "writer.close()"
   ]
  },
  {
   "cell_type": "code",
   "execution_count": 27,
   "id": "79f96998",
   "metadata": {},
   "outputs": [],
   "source": [
    "# 데이터셋에서 n개의 무작위 데이터와 레이블을 선택\n",
    "\n",
    "def select_n_random(data, labels, n=100):\n",
    "    # n개의 무작위 데이터와 해당 레이블을 데이터셋에서 선택\n",
    "\n",
    "    assert len(data) == len(labels)\n",
    "\n",
    "    perm = torch.randperm(len(data))\n",
    "    return data[perm][:n], labels[perm][:n]\n",
    "\n",
    "# 무작위 이미지와 해당 인덱스 선택\n",
    "images, labels = select_n_random(trainset.data, trainset.targets)\n",
    "\n",
    "# 각 이미지의 클래스 레이블 가져오기\n",
    "class_labels = [classes[lab] for lab in labels]\n",
    "\n",
    "# 임베딩 로그\n",
    "features = images.view(-1, 28 * 28)\n",
    "writer.add_embedding(features,\n",
    "                     metadata=class_labels,\n",
    "                     label_img=images.unsqueeze(1))\n",
    "\n",
    "writer.close()"
   ]
  },
  {
   "cell_type": "code",
   "execution_count": 28,
   "id": "4c074c62",
   "metadata": {},
   "outputs": [],
   "source": [
    "# 예측 및 확률 생성 도우미 함수\n",
    "\n",
    "def images_to_probs(net, images):\n",
    "    # 학습된 네트워크와 이미지 목록을 사용하여 예측 및 해당 확률 생성\n",
    "\n",
    "    output = net(images)\n",
    "    _, preds_tensor = torch.max(output,1)\n",
    "    preds = np.squeeze(preds_tensor.numpy())\n",
    "    return preds, [F.softmax(el, dim=0)[i].item() for i, el in zip(preds, output)]\n",
    "\n",
    "# 예측과 확률을 시각화하는 함수\n",
    "\n",
    "def plot_classes_preds(net, images, labels):\n",
    "    preds, probs = images_to_probs(net,images)\n",
    "    fig = plt.figure(figsize=(12,48))\n",
    "\n",
    "    for idx in np.arange(4):\n",
    "        ax = fig.add_subplot(1,4,idx+1, xticks=[], yticks =[])\n",
    "        matplotlib_imshow(images[idx], one_channel=True)\n",
    "        ax.set_title(\"{0}, {1:.1f}%\\n(label: {2})\".format(\n",
    "            classes[preds[idx]],\n",
    "            probs[idx] * 100.0,\n",
    "            classes[labels[idx]]),\n",
    "                    color=(\"green\" if preds[idx]==labels[idx].item() else \"red\"))\n",
    "    return fig"
   ]
  },
  {
   "cell_type": "markdown",
   "id": "88482b98",
   "metadata": {},
   "source": [
    "## 3. 모델 학습"
   ]
  },
  {
   "cell_type": "code",
   "execution_count": 29,
   "id": "37c60eb6",
   "metadata": {},
   "outputs": [
    {
     "name": "stdout",
     "output_type": "stream",
     "text": [
      "Finished Training\n"
     ]
    }
   ],
   "source": [
    "# 학습 시작\n",
    "\n",
    "running_loss = 0.0\n",
    "\n",
    "for epoch in range(2) : # 데이터셋을 여러 번 반복\n",
    "    for i,data in enumerate(trainloader, 0):\n",
    "        inputs, labels = data\n",
    "        optimizer.zero_grad()\n",
    "        outputs = net(inputs)\n",
    "        loss = criterion(outputs, labels)\n",
    "        loss.backward()\n",
    "        optimizer.step()\n",
    "\n",
    "        running_loss += loss.item()\n",
    "\n",
    "        if i % 1000 == 999: # 1000 미니 배치마다\n",
    "            writer.add_scalar('training loss',\n",
    "                              running_loss / 1000,\n",
    "                              epoch * len(trainloader) + i)\n",
    "            writer.add_figure('predictions vs, actuals',\n",
    "                              plot_classes_preds(net, inputs, labels),\n",
    "                              global_step=epoch * len(trainloader) + i)\n",
    "            running_loss = 0.0\n",
    "\n",
    "print('Finished Training')"
   ]
  },
  {
   "cell_type": "markdown",
   "id": "0e430993",
   "metadata": {},
   "source": [
    "## 4. 테스트 데이터 예측 및 분석"
   ]
  },
  {
   "cell_type": "code",
   "execution_count": 30,
   "id": "b6babfc0",
   "metadata": {},
   "outputs": [],
   "source": [
    "# 테스트 데이터에서 확률 및 예측 가져오기\n",
    "\n",
    "class_probs = []\n",
    "class_label = []\n",
    "\n",
    "with torch.no_grad():\n",
    "    for data in testloader:\n",
    "        images, labels = data\n",
    "        output = net(images)\n",
    "        class_probs_batch = [F.softmax(el, dim=0) for el in output]\n",
    "        class_probs.append(class_probs_batch)\n",
    "        class_label.append(labels)\n",
    "\n",
    "test_probs = torch.cat([torch.stack(batch) for batch in class_probs])\n",
    "test_label = torch.cat(class_label)\n",
    "\n",
    "# 정밀도-재현율 곡선을 TensorBoard에 추가하는 함수\n",
    "def add_pr_curve_tensorboard(class_index, test_probs, test_label, global_step=0):\n",
    "    tensorboard_truth = test_label == class_index\n",
    "    tensorboard_probs = test_probs[:, class_index]\n",
    "\n",
    "    writer.add_pr_curve(classes[class_index],\n",
    "                        tensorboard_truth,\n",
    "                        tensorboard_probs,\n",
    "                        global_step=global_step)\n",
    "    writer.close()\n",
    "\n",
    "# 모든 정밀도-재현율 곡선 그리기\n",
    "for i in range(len(classes)):\n",
    "    add_pr_curve_tensorboard(i, test_probs, test_label)    \n"
   ]
  },
  {
   "cell_type": "code",
   "execution_count": null,
   "id": "653f375a",
   "metadata": {},
   "outputs": [],
   "source": []
  }
 ],
 "metadata": {
  "kernelspec": {
   "display_name": "ml",
   "language": "python",
   "name": "python3"
  },
  "language_info": {
   "codemirror_mode": {
    "name": "ipython",
    "version": 3
   },
   "file_extension": ".py",
   "mimetype": "text/x-python",
   "name": "python",
   "nbconvert_exporter": "python",
   "pygments_lexer": "ipython3",
   "version": "3.9.23"
  }
 },
 "nbformat": 4,
 "nbformat_minor": 5
}
