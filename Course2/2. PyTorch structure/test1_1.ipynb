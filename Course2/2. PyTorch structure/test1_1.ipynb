{
 "cells": [
  {
   "cell_type": "code",
   "execution_count": 7,
   "id": "fab9ce97",
   "metadata": {},
   "outputs": [],
   "source": [
    "import torch\n",
    "from torch import nn\n",
    "from torch import Tensor"
   ]
  },
  {
   "cell_type": "code",
   "execution_count": 8,
   "id": "ba8fe448",
   "metadata": {},
   "outputs": [],
   "source": [
    "# PyTorch의 Parameter를 사용하여, linear layer 구현\n",
    "class MyLinear(nn.Module):\n",
    "  def __init__(self, in_features, out_features, bias=True):\n",
    "    super().__init__()\n",
    "    self.in_features = in_features\n",
    "    self.out_features = out_features\n",
    "\n",
    "    # (in_features, out_features) shape을 갖는 random tensor를 학습 가능한 Parameter 객체로 변환\n",
    "    self.weights = nn.Parameter(\n",
    "            torch.randn(in_features, out_features))\n",
    "\n",
    "    # (out_features) shape을 갖는 random tensor를 학습 가능한 Parameter 객체로 변환\n",
    "    self.bias = nn.Parameter(torch.randn(out_features))\n",
    "\n",
    "  def forward(self, x : Tensor):\n",
    "    # input tensor를 선형 변환한 후, bias term을 더하는 연산 정의\n",
    "    return x @ self.weights + self.bias\n"
   ]
  },
  {
   "cell_type": "code",
   "execution_count": 9,
   "id": "1588346f",
   "metadata": {},
   "outputs": [],
   "source": [
    "x = torch.randn(5, 7)"
   ]
  },
  {
   "cell_type": "code",
   "execution_count": 10,
   "id": "6100c479",
   "metadata": {},
   "outputs": [
    {
     "data": {
      "text/plain": [
       "tensor([[ 0.1085,  0.1244,  0.7919, -1.0791,  0.3262, -0.8462, -1.3992],\n",
       "        [ 0.1592, -1.0515, -0.3399, -1.6994, -0.5931,  0.4446,  1.0300],\n",
       "        [ 1.0950, -1.2099,  0.8120,  0.4885, -0.7612,  0.8387,  0.4032],\n",
       "        [ 1.1509,  0.3373,  0.5399,  2.2519,  0.6641,  0.1220,  1.2286],\n",
       "        [-0.2401, -0.9570, -1.1251,  1.1198, -0.3150,  0.2149,  0.0311]])"
      ]
     },
     "execution_count": 10,
     "metadata": {},
     "output_type": "execute_result"
    }
   ],
   "source": [
    "x"
   ]
  },
  {
   "cell_type": "code",
   "execution_count": 11,
   "id": "7f7b2b9f",
   "metadata": {},
   "outputs": [
    {
     "data": {
      "text/plain": [
       "torch.Size([5, 12])"
      ]
     },
     "execution_count": 11,
     "metadata": {},
     "output_type": "execute_result"
    }
   ],
   "source": [
    "# linear layer 객체 생성\n",
    "layer = MyLinear(7, 12)\n",
    "layer(x).shape"
   ]
  },
  {
   "cell_type": "code",
   "execution_count": 12,
   "id": "c4af8bf8",
   "metadata": {},
   "outputs": [
    {
     "name": "stdout",
     "output_type": "stream",
     "text": [
      "Parameter containing:\n",
      "tensor([[-0.4515, -0.4329, -1.1328,  0.7825, -0.5045, -0.2230,  0.3999,  0.4641,\n",
      "          1.4171, -1.8266,  1.4786,  0.4360],\n",
      "        [-2.2437,  0.3153,  0.1707, -0.2962, -0.1926,  0.0816, -0.6249,  2.6638,\n",
      "          0.0449,  0.9539, -1.3286,  0.5665],\n",
      "        [ 1.2480, -0.5842, -1.7946, -0.5756,  1.6277,  1.2814, -0.5159, -0.5458,\n",
      "          1.1800,  0.0898,  0.2328,  0.7804],\n",
      "        [-0.9104, -1.6320,  1.9681, -0.3062,  0.7624, -2.9783, -0.6887,  0.6650,\n",
      "         -0.2887, -0.4272, -0.2467,  1.2908],\n",
      "        [ 0.8850,  0.4512,  0.0764,  1.3316, -0.1819, -0.3573, -1.1635, -1.6842,\n",
      "         -2.1229, -0.1845, -1.5099, -0.0040],\n",
      "        [ 0.4503,  0.2435,  2.2873, -0.3774,  0.4934, -1.2400,  0.2437,  1.2767,\n",
      "          0.2517,  1.0043, -0.1808,  1.9369],\n",
      "        [-1.2937, -1.1138, -0.8307, -0.3991,  1.0169, -0.7915,  1.8257, -0.1505,\n",
      "         -0.0331, -1.0855,  0.8421,  0.8187]], requires_grad=True)\n",
      "Parameter containing:\n",
      "tensor([-0.1580, -0.6083, -1.6091,  0.3164,  1.0055,  0.5033, -0.2003, -0.0321,\n",
      "        -0.7742,  0.1184, -1.3642, -0.6649], requires_grad=True)\n"
     ]
    }
   ],
   "source": [
    "# linear layer의 parameter 조회\n",
    "for value in layer.parameters():\n",
    "  print(value)"
   ]
  },
  {
   "cell_type": "code",
   "execution_count": null,
   "id": "38f8c1a0",
   "metadata": {},
   "outputs": [],
   "source": []
  }
 ],
 "metadata": {
  "kernelspec": {
   "display_name": "ml",
   "language": "python",
   "name": "python3"
  },
  "language_info": {
   "codemirror_mode": {
    "name": "ipython",
    "version": 3
   },
   "file_extension": ".py",
   "mimetype": "text/x-python",
   "name": "python",
   "nbconvert_exporter": "python",
   "pygments_lexer": "ipython3",
   "version": "3.9.23"
  }
 },
 "nbformat": 4,
 "nbformat_minor": 5
}
