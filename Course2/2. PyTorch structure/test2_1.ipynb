{
 "cells": [
  {
   "cell_type": "code",
   "execution_count": 6,
   "id": "f29514c5",
   "metadata": {},
   "outputs": [],
   "source": [
    "import torch\n",
    "from torch.utils.data import Dataset\n",
    "\n",
    "from torch.utils.data import Dataset, DataLoader"
   ]
  },
  {
   "cell_type": "code",
   "execution_count": 7,
   "id": "65b21da9",
   "metadata": {},
   "outputs": [],
   "source": [
    "class CustomDataset(Dataset):\n",
    "    def __init__(self, text, labels):\n",
    "        self.labels = labels\n",
    "        self.data = text\n",
    "\n",
    "    def __len__(self):\n",
    "        return len(self.labels)\n",
    "\n",
    "    def __getitem__(self, idx):\n",
    "        label = self.labels[idx]\n",
    "        text = self.data[idx]\n",
    "        sample = {\"Text\": text, \"Class\": label}\n",
    "        return sample\n"
   ]
  },
  {
   "cell_type": "code",
   "execution_count": 8,
   "id": "55e53a62",
   "metadata": {},
   "outputs": [],
   "source": [
    "# 텍스트 데이터와 해당 텍스트의 감정 레이블을 정의합니다.\n",
    "text = ['Happy', 'Amazing', 'Sad', 'Unhapy', 'Glum']\n",
    "labels = ['Positive', 'Positive', 'Negative', 'Negative', 'Negative']\n",
    "\n",
    "# CustomDataset 클래스를 사용하여 데이터셋 객체를 생성합니다.\n",
    "MyDataset = CustomDataset(text, labels)"
   ]
  },
  {
   "cell_type": "code",
   "execution_count": 9,
   "id": "6ab676de",
   "metadata": {},
   "outputs": [
    {
     "data": {
      "text/plain": [
       "__main__.CustomDataset"
      ]
     },
     "execution_count": 9,
     "metadata": {},
     "output_type": "execute_result"
    }
   ],
   "source": [
    "# MyDataset의 타입을 출력합니다.\n",
    "type(MyDataset)"
   ]
  },
  {
   "cell_type": "code",
   "execution_count": 10,
   "id": "bf68d534",
   "metadata": {},
   "outputs": [
    {
     "data": {
      "text/plain": [
       "{'Text': ['Glum', 'Sad'], 'Class': ['Negative', 'Negative']}"
      ]
     },
     "execution_count": 10,
     "metadata": {},
     "output_type": "execute_result"
    }
   ],
   "source": [
    "# 배치 크기가 2인 DataLoader 객체를 생성하고 데이터를 섞어서 로드합니다.\n",
    "MyDataLoader = DataLoader(MyDataset, batch_size=2, shuffle=True)\n",
    "\n",
    "# DataLoader에서 첫 번째 배치의 데이터를 가져와 출력합니다.\n",
    "next(iter(MyDataLoader))"
   ]
  },
  {
   "cell_type": "code",
   "execution_count": 11,
   "id": "411fb352",
   "metadata": {},
   "outputs": [
    {
     "name": "stdout",
     "output_type": "stream",
     "text": [
      "{'Text': ['Happy', 'Sad', 'Unhapy'], 'Class': ['Positive', 'Negative', 'Negative']}\n",
      "{'Text': ['Glum', 'Amazing'], 'Class': ['Negative', 'Positive']}\n"
     ]
    }
   ],
   "source": [
    "# 배치 크기가 3인 DataLoader 객체를 생성하고 데이터를 섞어서 로드합니다.\n",
    "MyDataLoader = DataLoader(MyDataset, batch_size=3, shuffle=True)\n",
    "\n",
    "# DataLoader의 모든 배치 데이터를 순회하며 출력합니다.\n",
    "for dataset in MyDataLoader:\n",
    "    print(dataset)"
   ]
  },
  {
   "cell_type": "code",
   "execution_count": null,
   "id": "e1fa7f38",
   "metadata": {},
   "outputs": [],
   "source": []
  }
 ],
 "metadata": {
  "kernelspec": {
   "display_name": "ml",
   "language": "python",
   "name": "python3"
  },
  "language_info": {
   "codemirror_mode": {
    "name": "ipython",
    "version": 3
   },
   "file_extension": ".py",
   "mimetype": "text/x-python",
   "name": "python",
   "nbconvert_exporter": "python",
   "pygments_lexer": "ipython3",
   "version": "3.9.23"
  }
 },
 "nbformat": 4,
 "nbformat_minor": 5
}
