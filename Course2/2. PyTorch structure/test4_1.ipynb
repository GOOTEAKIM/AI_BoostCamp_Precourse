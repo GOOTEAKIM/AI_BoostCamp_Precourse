{
 "cells": [
  {
   "cell_type": "markdown",
   "id": "208e54e4",
   "metadata": {},
   "source": [
    "## 1. TensorBoard 환경 설정 및 로그 저장"
   ]
  },
  {
   "cell_type": "code",
   "execution_count": 21,
   "id": "aa658e72",
   "metadata": {},
   "outputs": [],
   "source": [
    "import os\n",
    "import torch\n",
    "import numpy as np\n",
    "from tensorboard import notebook\n",
    "from torch.utils.tensorboard import SummaryWriter"
   ]
  },
  {
   "cell_type": "code",
   "execution_count": 22,
   "id": "1586543a",
   "metadata": {},
   "outputs": [],
   "source": [
    "# 로그를 저장할 기본 디렉토리를 설정합니다.\n",
    "logs_base_dir = \"logs\"\n",
    "os.makedirs(logs_base_dir, exist_ok=True)"
   ]
  },
  {
   "cell_type": "code",
   "execution_count": 23,
   "id": "1d83355c",
   "metadata": {},
   "outputs": [],
   "source": [
    "# 특정 실험에 대한 로그 디렉토리를 설정합니다.\n",
    "\n",
    "exp = f\"{logs_base_dir}/ex3\" # exp1,2,3,4 이렇게 폴더 생성 ㄱㄴ\n",
    "writer = SummaryWriter(exp)\n",
    "\n",
    "# 임의의 손실 및 정확도 값을 로그에 기록합니다.\n",
    "for n_iter in range(100):\n",
    "    writer.add_scalar('Loss/train', np.random.random(), n_iter)\n",
    "    writer.add_scalar('Loss/test', np.random.random(), n_iter)\n",
    "    writer.add_scalar('Accuracy/train', np.random.random(), n_iter)\n",
    "    writer.add_scalar('Accuracy/test', np.random.random(), n_iter)\n",
    "writer.flush()"
   ]
  },
  {
   "cell_type": "code",
   "execution_count": 24,
   "id": "476e24b1",
   "metadata": {},
   "outputs": [
    {
     "name": "stdout",
     "output_type": "stream",
     "text": [
      "The tensorboard extension is already loaded. To reload it, use:\n",
      "  %reload_ext tensorboard\n"
     ]
    }
   ],
   "source": [
    "# TensorBoard를 사용하기 위한 확장을 로드합니다.\n",
    "\n",
    "%load_ext tensorboard"
   ]
  },
  {
   "cell_type": "code",
   "execution_count": 34,
   "id": "917bfc79",
   "metadata": {},
   "outputs": [
    {
     "data": {
      "text/plain": [
       "Reusing TensorBoard on port 6006 (pid 42116), started 0:37:40 ago. (Use '!kill 42116' to kill it.)"
      ]
     },
     "metadata": {},
     "output_type": "display_data"
    },
    {
     "data": {
      "text/html": [
       "\n",
       "      <iframe id=\"tensorboard-frame-c83a9cf448da6c6\" width=\"100%\" height=\"800\" frameborder=\"0\">\n",
       "      </iframe>\n",
       "      <script>\n",
       "        (function() {\n",
       "          const frame = document.getElementById(\"tensorboard-frame-c83a9cf448da6c6\");\n",
       "          const url = new URL(\"http://localhost\");\n",
       "          const port = 6006;\n",
       "          if (port) {\n",
       "            url.port = port;\n",
       "          }\n",
       "          frame.src = url;\n",
       "        })();\n",
       "      </script>\n",
       "    "
      ],
      "text/plain": [
       "<IPython.core.display.HTML object>"
      ]
     },
     "metadata": {},
     "output_type": "display_data"
    }
   ],
   "source": [
    "# TensorBoard를 실행합니다.\n",
    "\n",
    "%tensorboard --logdir \"logs\" # logs 내에 여러 폴더가 있다면 다 표시 된다"
   ]
  },
  {
   "cell_type": "code",
   "execution_count": null,
   "id": "2ca81039",
   "metadata": {},
   "outputs": [
    {
     "name": "stderr",
     "output_type": "stream",
     "text": [
      "TensorFlow installation not found - running with reduced feature set.\n",
      "E0812 20:59:29.692571 56992 program.py:300] TensorBoard could not bind to port 6006, it was already in use\n",
      "ERROR: TensorBoard could not bind to port 6006, it was already in use\n"
     ]
    }
   ],
   "source": [
    "# 캐시 생겼을 경우 종료하고 다시 실행\n",
    "\n",
    "!tensorboard --logdir logs --port 6006 --reload_interval 1"
   ]
  },
  {
   "cell_type": "code",
   "execution_count": 27,
   "id": "3d228682",
   "metadata": {},
   "outputs": [
    {
     "name": "stdout",
     "output_type": "stream",
     "text": [
      "Known TensorBoard instances:\n",
      "  - port 6006: logdir logs (started 0:30:34 ago; pid 42116)\n",
      "  - port 6006: logdir logs (started 0:23:23 ago; pid 60836)\n"
     ]
    }
   ],
   "source": [
    "# 현재 열려있는 TensorBoard 인스턴스를 확인합니다.\n",
    "notebook.list()"
   ]
  },
  {
   "cell_type": "markdown",
   "id": "5daa3641",
   "metadata": {},
   "source": [
    "## 2. 스칼라 데이터 로깅"
   ]
  },
  {
   "cell_type": "code",
   "execution_count": 14,
   "id": "01189f83",
   "metadata": {},
   "outputs": [],
   "source": [
    "# 여러 스칼라 값을 동시에 로그에 기록합니다.\n",
    "\n",
    "writer = SummaryWriter(logs_base_dir)\n",
    "r = 5\n",
    "for i in range(100):\n",
    "    writer.add_scalars('run_14h', {'xsinx' : i*np.sin(i/r),\n",
    "                                   'xcosx' : i*np.cos(i/r),\n",
    "                                   'tanx' : np.tan(i/r)}, i)\n",
    "    \n",
    "writer.close()"
   ]
  },
  {
   "cell_type": "markdown",
   "id": "6fae9f05",
   "metadata": {},
   "source": [
    "## 3. 이미지 및 히스토그램 데이터 로깅"
   ]
  },
  {
   "cell_type": "code",
   "execution_count": 28,
   "id": "b01320d3",
   "metadata": {},
   "outputs": [],
   "source": [
    "# 히스토그램을 로그에 기록합니다.\n",
    "\n",
    "writer = SummaryWriter(logs_base_dir)\n",
    "for i in range(10):\n",
    "    x = np.random.random(1000)\n",
    "    writer.add_histogram('distribution centers', x+i, i)\n",
    "\n",
    "writer.close()"
   ]
  },
  {
   "cell_type": "code",
   "execution_count": 29,
   "id": "7a60e63f",
   "metadata": {},
   "outputs": [
    {
     "data": {
      "text/plain": [
       "<bound method SummaryWriter.close of <torch.utils.tensorboard.writer.SummaryWriter object at 0x000001F889C092E0>>"
      ]
     },
     "execution_count": 29,
     "metadata": {},
     "output_type": "execute_result"
    }
   ],
   "source": [
    "# 이미지 배치를 로그에 기록합니다.\n",
    "\n",
    "img_batch = np.zeros((16,3,100,100))\n",
    "\n",
    "for i in range(16):\n",
    "    img_batch[i,0] = np.arange(0,10000).reshape(100,100) / 10000 / 16 * i\n",
    "    img_batch[i,1] = (1-np.arange(0,10000).reshape(100,100) / 10000) / 16 * i\n",
    "\n",
    "writer = SummaryWriter(logs_base_dir)\n",
    "writer.add_images('my_image_batch', img_batch, 0)\n",
    "writer.close"
   ]
  },
  {
   "cell_type": "markdown",
   "id": "f3616cc0",
   "metadata": {},
   "source": [
    "## 4. 3D 메쉬 및 하이퍼파라미터 로깅"
   ]
  },
  {
   "cell_type": "code",
   "execution_count": 31,
   "id": "4435e61a",
   "metadata": {},
   "outputs": [],
   "source": [
    "# 3D 메시를 로그에 기록합니다.\n",
    "\n",
    "vertices_tensor = torch.as_tensor([\n",
    "    [1,1,1],\n",
    "    [-1,-1,1],\n",
    "    [1,-1,-1],\n",
    "    [-1,1,-1],\n",
    "], dtype=torch.float).unsqueeze(0)\n",
    "\n",
    "colors_tensor = torch.as_tensor([\n",
    "    [255, 0, 0],\n",
    "    [0, 255, 0],\n",
    "    [0, 0, 255],\n",
    "    [255, 0, 255],\n",
    "], dtype=torch.int).unsqueeze(0)\n",
    "\n",
    "faces_tensor = torch.as_tensor([\n",
    "    [0, 2, 3],\n",
    "    [0, 3, 1],\n",
    "    [0, 1, 2],\n",
    "    [1, 3, 2],\n",
    "], dtype=torch.int).unsqueeze(0)\n",
    "\n",
    "writer = SummaryWriter(logs_base_dir)\n",
    "writer.add_mesh('my_mesh', vertices=vertices_tensor, colors=colors_tensor, faces=faces_tensor)\n",
    "writer.close()"
   ]
  },
  {
   "cell_type": "code",
   "execution_count": 33,
   "id": "1f79a95c",
   "metadata": {},
   "outputs": [],
   "source": [
    "# 하이퍼파라미터와 관련된 메트릭을 로그에 기록합니다.\n",
    "\n",
    "with SummaryWriter(logs_base_dir) as w:\n",
    "    for i in range(5):\n",
    "        w.add_hparams({'lr': 0.1*i, 'bsize': i},\n",
    "                      {'hparam/accuracy': 10*i, 'hparam/loss': 10*i})"
   ]
  }
 ],
 "metadata": {
  "kernelspec": {
   "display_name": "ml",
   "language": "python",
   "name": "python3"
  },
  "language_info": {
   "codemirror_mode": {
    "name": "ipython",
    "version": 3
   },
   "file_extension": ".py",
   "mimetype": "text/x-python",
   "name": "python",
   "nbconvert_exporter": "python",
   "pygments_lexer": "ipython3",
   "version": "3.9.23"
  }
 },
 "nbformat": 4,
 "nbformat_minor": 5
}
